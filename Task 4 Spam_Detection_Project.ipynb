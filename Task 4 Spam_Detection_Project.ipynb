{
 "cells": [
  {
   "cell_type": "markdown",
   "id": "87806a20",
   "metadata": {},
   "source": [
    "# 📧 Email Spam Detection using Machine Learning\n",
    "## 🧩 Problem Statement\n",
    "Spam emails are unwanted messages that often carry scams, phishing links, or irrelevant advertising. The goal of this project is to build a **Spam Email Classifier** using **Python and Machine Learning** that can automatically detect and label an email as either **spam** or **not spam (ham)**.\n\n",
    "We will use the **Multinomial Naive Bayes** algorithm, commonly used in text classification, to build our model."
   ]
  },
  {
   "cell_type": "code",
   "execution_count": null,
   "id": "da772bfc",
   "metadata": {},
   "outputs": [],
   "source": [
    "# 📦 Step 1: Import Libraries\n",
    "import pandas as pd\n",
    "import numpy as np\n",
    "from sklearn.feature_extraction.text import CountVectorizer\n",
    "from sklearn.model_selection import train_test_split\n",
    "from sklearn.naive_bayes import MultinomialNB\n",
    "from sklearn.metrics import accuracy_score, classification_report, confusion_matrix\n",
    "import seaborn as sns\n",
    "import matplotlib.pyplot as plt"
   ]
  },
  {
   "cell_type": "markdown",
   "id": "99206739",
   "metadata": {},
   "source": [
    "## 📥 Step 2: Load and Explore the Dataset"
   ]
  },
  {
   "cell_type": "code",
   "execution_count": null,
   "id": "c6ef67f4",
   "metadata": {},
   "outputs": [],
   "source": [
    "# Load dataset\n",
    "df = pd.read_csv('spam.csv', encoding='latin-1')\n",
    "# Display first 5 rows\n",
    "df.head()"
   ]
  },
  {
   "cell_type": "markdown",
   "id": "1da45f4c",
   "metadata": {},
   "source": [
    "## 🧹 Step 3: Clean the Dataset"
   ]
  },
  {
   "cell_type": "code",
   "execution_count": null,
   "id": "a6903346",
   "metadata": {},
   "outputs": [],
   "source": [
    "# Keep only necessary columns\n",
    "df = df[['v1', 'v2']]\n",
    "df.columns = ['label', 'message']\n",
    "# Map labels to 0 and 1\n",
    "df['label'] = df['label'].map({'ham': 0, 'spam': 1})\n",
    "# Check class distribution\n",
    "df['label'].value_counts()"
   ]
  },
  {
   "cell_type": "markdown",
   "id": "8bc96681",
   "metadata": {},
   "source": [
    "## 🧪 Step 4: Preprocess the Text and Split the Data"
   ]
  },
  {
   "cell_type": "code",
   "execution_count": null,
   "id": "e346e2b5",
   "metadata": {},
   "outputs": [],
   "source": [
    "# Convert text into bag-of-words feature vectors\n",
    "vectorizer = CountVectorizer()\n",
    "X = vectorizer.fit_transform(df['message'])\n",
    "y = df['label']\n",
    "# Split data into training and testing sets\n",
    "X_train, X_test, y_train, y_test = train_test_split(X, y, test_size=0.2, random_state=0)"
   ]
  },
  {
   "cell_type": "markdown",
   "id": "a15b46f9",
   "metadata": {},
   "source": [
    "## 🤖 Step 5: Train the Naive Bayes Model"
   ]
  },
  {
   "cell_type": "code",
   "execution_count": null,
   "id": "2e912a40",
   "metadata": {},
   "outputs": [],
   "source": [
    "# Train the model\n",
    "model = MultinomialNB()\n",
    "model.fit(X_train, y_train)\n",
    "# Predict on test set\n",
    "y_pred = model.predict(X_test)"
   ]
  },
  {
   "cell_type": "markdown",
   "id": "7010692d",
   "metadata": {},
   "source": [
    "## 📊 Step 6: Evaluate the Model"
   ]
  },
  {
   "cell_type": "code",
   "execution_count": null,
   "id": "302e8717",
   "metadata": {},
   "outputs": [],
   "source": [
    "# Accuracy and classification report\n",
    "print(\"✅ Accuracy:\", accuracy_score(y_test, y_pred))\n",
    "print(\"\\n📋 Classification Report:\\n\", classification_report(y_test, y_pred))\n",
    "# Confusion matrix\n",
    "cm = confusion_matrix(y_test, y_pred)\n",
    "sns.heatmap(cm, annot=True, fmt='d', cmap='Blues', xticklabels=['Ham', 'Spam'], yticklabels=['Ham', 'Spam'])\n",
    "plt.xlabel(\"Predicted\")\n",
    "plt.ylabel(\"Actual\")\n",
    "plt.title(\"Confusion Matrix\")\n",
    "plt.show()"
   ]
  },
  {
   "cell_type": "markdown",
   "id": "57a4be2f",
   "metadata": {},
   "source": [
    "## 🧠 Step 7: Test with a Custom Email"
   ]
  },
  {
   "cell_type": "code",
   "execution_count": null,
   "id": "8258fc48",
   "metadata": {},
   "outputs": [],
   "source": [
    "# Sample email message\n",
    "sample = [\"Congratulations! You've won a free iPhone. Click to claim now.\"]\n",
    "# Convert to vector\n",
    "sample_vector = vectorizer.transform(sample)\n",
    "# Predict\n",
    "pred = model.predict(sample_vector)\n",
    "print(\"Prediction:\", \"Spam\" if pred[0] == 1 else \"Not Spam\")"
   ]
  },
  {
   "cell_type": "markdown",
   "id": "0839a7e9",
   "metadata": {},
   "source": [
    "## ✅ Conclusion\n\n",
    "- We successfully built a **Spam Detection Model** using the **Naive Bayes algorithm**.\n",
    "- Our model achieves high accuracy and performs well on test data.\n",
    "- It can classify new email messages based on word frequencies using a bag-of-words model.\n\n",
    "### 📈 Possible Improvements:\n",
    "- Use **TF-IDF** vectorization for better feature scaling.\n",
    "- Apply **text preprocessing** (removing stopwords, stemming, lemmatization).\n",
    "- Experiment with other algorithms like **Logistic Regression**, **SVM**, or **deep learning models**."
   ]
  }
 ],
 "metadata": {},
 "nbformat": 4,
 "nbformat_minor": 5
}
